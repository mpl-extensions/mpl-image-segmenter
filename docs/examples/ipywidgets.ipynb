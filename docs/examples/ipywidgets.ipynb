{
 "cells": [
  {
   "cell_type": "markdown",
   "id": "b0664eca-1f81-43ae-8f4a-d514b86a5bf5",
   "metadata": {},
   "source": [
    "# Integration with ipywidgets\n",
    "\n",
    "To reduce friction in the labelling workflow you can construct controls for the currently selected class and whether to be in erasing mode using ipywidgets."
   ]
  },
  {
   "cell_type": "code",
   "execution_count": null,
   "id": "f1bab7f9-34df-463e-b6ec-52df6fba5737",
   "metadata": {
    "tags": []
   },
   "outputs": [],
   "source": [
    "%matplotlib ipympl"
   ]
  },
  {
   "cell_type": "code",
   "execution_count": null,
   "id": "a5ad14e1-4525-4093-bd7d-449a355784a5",
   "metadata": {
    "tags": []
   },
   "outputs": [],
   "source": [
    "import ipywidgets as widgets\n",
    "\n",
    "from mpl_image_segmenter import ImageSegmenter\n",
    "from mpl_image_segmenter.example_images import gray_image_stack\n",
    "\n",
    "image_stack = gray_image_stack()\n",
    "\n",
    "N_classes = 3\n",
    "\n",
    "\n",
    "\n",
    "segmenter = ImageSegmenter(image_stack, classes=N_classes, mask_alpha=0.76, cmap='gray')\n",
    "\n",
    "def set_class(change):\n",
    "    segmenter.current_class = class_selector.value\n",
    "\n",
    "def set_erasing(change):\n",
    "    segmenter.erasing = erasing_button.value\n",
    "\n",
    "def set_img(change):\n",
    "    segmenter.image_index = change['new']\n",
    "\n",
    "class_selector = widgets.Dropdown(options=list(range(1, N_classes + 1)), description=\"class\")\n",
    "img_slider = widgets.IntSlider(value=0, min=0, max=image_stack.shape[0]-1, description=\"img index\")\n",
    "erasing_button = widgets.Checkbox(value=False, description=\"Erasing\")\n",
    "\n",
    "erasing_button.observe(set_erasing, names=\"value\")\n",
    "class_selector.observe(set_class, names=\"value\")\n",
    "img_slider.observe(set_img, names=\"value\")\n",
    "\n",
    "display(widgets.VBox([widgets.HBox([erasing_button, class_selector, img_slider]), segmenter.fig.canvas]))"
   ]
  }
 ],
 "metadata": {
  "kernelspec": {
   "display_name": "Python 3 (ipykernel)",
   "language": "python",
   "name": "python3"
  },
  "language_info": {
   "codemirror_mode": {
    "name": "ipython",
    "version": 3
   },
   "file_extension": ".py",
   "mimetype": "text/x-python",
   "name": "python",
   "nbconvert_exporter": "python",
   "pygments_lexer": "ipython3",
   "version": "3.11.0"
  },
  "widgets": {
   "application/vnd.jupyter.widget-state+json": {
    "state": {},
    "version_major": 2,
    "version_minor": 0
   }
  }
 },
 "nbformat": 4,
 "nbformat_minor": 5
}
